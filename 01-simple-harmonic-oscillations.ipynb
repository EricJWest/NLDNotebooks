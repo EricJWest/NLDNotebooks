{
 "cells": [
  {
   "cell_type": "markdown",
   "metadata": {},
   "source": [
    "LaTeX header (do not delete)\n",
    "$$\n",
    "\\newcommand{\\Re}[1]{\\mathrm{Re}\\left\\{ #1 \\right\\}}\n",
    "\\newcommand{\\Im}[1]{\\mathrm{Im}\\left\\{ #1 \\right\\}}\n",
    "\\newcommand{\\avg}[1]{\\left< #1 \\right>}\n",
    "$$"
   ]
  },
  {
   "cell_type": "markdown",
   "metadata": {},
   "source": [
    "# Step 1 -- Simple Harmonic Oscillations\n",
    "---\n",
    "\n",
    "### Equation of motion\n",
    "\n",
    "Here we consider \"the\" simple harmonic oscillator, that is, a 1D oscillator whose motion is governed by the linear ODE\n",
    "\n",
    "$$\n",
    "  m\\ddot{x} + kx = 0,\n",
    "$$\n",
    "\n",
    "where $m$ is the mass of the oscillator and $k$ is the 'spring constant' of the linear restoring force. Dividing by $m$ yields the equation of motion, which we write as\n",
    "\n",
    "$$\n",
    "  \\ddot{x} + \\omega_{0}^2 x = 0\n",
    "  \\quad\\quad\\text{with}\\quad\\quad\n",
    "  \\omega_{0} \\equiv \\sqrt{\\frac{k}{m}}.\n",
    "$$\n",
    "\n",
    "### Solutions\n",
    "The solutions to this equation are well-known, studied by every student of ordinary differential equations. The general solutions take many forms. Here we state a few of the more common ones:\n",
    "\n",
    "$$\n",
    "  \\begin{array}{lll}\n",
    "    \\text{Form 1:} & \n",
    "    x(t) = A_{1}\\cos(\\omega_{0}t) + B_{1}\\sin(\\omega_{0}t) &\n",
    "    \\text{($A_{1}$, $B_{1}$ real)} \\\\\n",
    "    \\text{Form 2:} & \n",
    "    x(t) = A_{2}\\exp(i\\omega_{0}t) + B_{2}\\exp(-i\\omega_{0}t) &\n",
    "    \\text{($A_{2}$, $B_{2}$ complex with $A_{2}^{*}=B_{2}$ so that $x(t)$ is real)} \\\\\n",
    "    \\text{Form 3:} & \n",
    "    x(t) = A\\cos(\\omega_{0}t - \\delta) &\n",
    "    \\text{($A$, $\\delta$ real)} \\\\\n",
    "  \\end{array}\n",
    "$$\n",
    "\n",
    "The coefficients are related to the initial conditions $x_{0}\\equiv x(0)$ and $\\dot{x}_{0}\\equiv\\dot{x}(0)$. These relationships are different in the different forms above. \n",
    "\n",
    "**Exercise [pen & paper]:** verify that each of the above forms are in fact solutions to the equation of motion.\n",
    "\n",
    "**Exercise [pen & paper]:** show that the relationships between the coefficients in the different forms are\n",
    "\n",
    "\\begin{align}\n",
    "  & \\text{Form 1}\\leftrightarrow\\text{Form 2}:\n",
    "  \\quad\\quad\n",
    "  \\left\\{\\begin{array}{l}\n",
    "    A_{1} = A_{2} + B_{2} \\\\\n",
    "    B_{1} = i(A_{2} - B_{2})\n",
    "  \\end{array}\\right\\}\n",
    "  \\quad\\quad\\leftrightarrow\\quad\\quad\n",
    "  \\left\\{\\begin{array}{l}\n",
    "    A_{2} = \\frac{1}{2}(A_{1} - iB_{1}) \\\\\n",
    "    B_{2} = \\frac{1}{2}(A_{1} + iB_{1})\n",
    "  \\end{array}\\right\\}\n",
    "\\\\\n",
    "  & \\text{Form 1}\\leftrightarrow\\text{Form 3}:\n",
    "  \\quad\\quad\n",
    "  \\left\\{\\begin{array}{l}\n",
    "    A_{1} = A\\cos\\delta \\\\\n",
    "    B_{1} = A\\sin\\delta\n",
    "  \\end{array}\\right\\}\n",
    "  \\quad\\quad\\leftrightarrow\\quad\\quad\n",
    "  \\left\\{\\begin{array}{l}\n",
    "    A = \\sqrt{A_{1}^2 + B_{1}^2} \\\\\n",
    "    \\delta = \\arctan\\left(\\frac{B_{1}}{A_{1}}\\right)\n",
    "  \\end{array}\\right\\}\n",
    "\\\\\n",
    "  & \\text{Form 2}\\leftrightarrow\\text{Form 3}:\n",
    "  \\quad\\quad\n",
    "  \\left\\{\\begin{array}{l}\n",
    "    A_{2} = \\frac{1}{2}A e^{-i\\delta}\\\\\n",
    "    B_{2} = \\frac{1}{2}A e^{i\\delta}\n",
    "  \\end{array}\\right\\}\n",
    "  \\quad\\quad\\leftrightarrow\\quad\\quad\n",
    "  \\left\\{\\begin{array}{l}\n",
    "    A = 2\\sqrt{A_{2}B_{2}} \\\\\n",
    "    \\delta = \\arctan\\left(\\frac{-i(B_{1}-A_{1})}{(B_{1}+A_{1})}\\right)\n",
    "  \\end{array}\\right\\}\n",
    "\\end{align}\n",
    "\n",
    "### Initial conditions\n",
    "\n",
    "The coefficients in the above solutions are related to the initial conditions $x_{0}$ and $\\dot{x}_{0}$. For form 3 above, these relations are\n",
    "\n",
    "$$\n",
    "  A = \\sqrt{x_{0}^2 + \\left(\\frac{\\dot{x}_{0}}{\\omega_{0}}\\right)^2}\n",
    "  \\quad\\quad,\\quad\\quad\n",
    "  \\delta = \\arctan\\left(\\frac{\\dot{x}_{0}}{\\omega_{0} x_{0}}\\right)\n",
    "$$\n",
    "\n",
    "**Exercise [pen & paper]:** verify this.\n",
    "\n",
    "**Exercise [pen & paper]:** obtain analogous relationships for forms 1 and 2."
   ]
  },
  {
   "cell_type": "markdown",
   "metadata": {},
   "source": [
    "## 1. SymPy, lambdify()\n",
    "\n",
    "**Exercise [sympy]:** use SymPy to define symbolic expressions for the position, velocity, and acceleration, corresponding to form 3 above."
   ]
  },
  {
   "cell_type": "code",
   "execution_count": null,
   "metadata": {},
   "outputs": [],
   "source": [
    "#sympy preliminaries\n",
    "import sympy as sym\n",
    "sym.init_printing()"
   ]
  },
  {
   "cell_type": "code",
   "execution_count": null,
   "metadata": {},
   "outputs": [],
   "source": [
    "# sympy variables\n"
   ]
  },
  {
   "cell_type": "code",
   "execution_count": null,
   "metadata": {},
   "outputs": [],
   "source": [
    "# position\n"
   ]
  },
  {
   "cell_type": "code",
   "execution_count": null,
   "metadata": {},
   "outputs": [],
   "source": [
    "# velocity\n"
   ]
  },
  {
   "cell_type": "code",
   "execution_count": null,
   "metadata": {},
   "outputs": [],
   "source": [
    "# acceleration\n"
   ]
  },
  {
   "cell_type": "markdown",
   "metadata": {},
   "source": [
    "**Exercise [sympy]:** use SymPy's built-in function lambdify() to convert the above SymPy functions for position, velocity, and acceleration into NumPy-friendly functions of ($t$, $\\omega_{0}$, $x_{0}$, $\\dot{x}_{0}$). Test this by creating an array of data for $\\omega_{0}=1.0$, $x_{0}=1.0$, $\\dot{x}_{0}=0$, and $t=0,1,2,\\ldots,10$."
   ]
  },
  {
   "cell_type": "code",
   "execution_count": null,
   "metadata": {},
   "outputs": [],
   "source": [
    "# substitutions\n"
   ]
  },
  {
   "cell_type": "code",
   "execution_count": null,
   "metadata": {},
   "outputs": [],
   "source": [
    "# lambdify\n"
   ]
  },
  {
   "cell_type": "code",
   "execution_count": null,
   "metadata": {},
   "outputs": [],
   "source": [
    "# test data\n"
   ]
  },
  {
   "cell_type": "markdown",
   "metadata": {},
   "source": [
    "## 2. Plot motion vs time\n",
    "\n",
    "**Exercise [matplotlib]:** With the above results in hand, plot the position, velocity, and acceleration on the same graph as functions of time. Plot the solutions for initial conditions $x_{0}=L$ and $\\dot{x}_{0}=\\omega_{0}L$ for an arbitrary length scale $L$."
   ]
  },
  {
   "cell_type": "code",
   "execution_count": null,
   "metadata": {},
   "outputs": [],
   "source": [
    "# import packages\n",
    "import numpy as np\n",
    "import matplotlib.pyplot as plt"
   ]
  },
  {
   "cell_type": "code",
   "execution_count": null,
   "metadata": {},
   "outputs": [],
   "source": [
    "### plot motion vs time ###\n",
    "# model parameters\n",
    "\n",
    "# initial conditions\n",
    "\n",
    "# create uniform time grid\n",
    "\n",
    "# plot\n"
   ]
  },
  {
   "cell_type": "markdown",
   "metadata": {},
   "source": [
    "## 2. Plot energy vs time\n",
    "\n",
    "The kinetic energy of a simple harmonic oscillator is given by\n",
    "\n",
    "$$\n",
    "  K(t) = \\frac{1}{2}m\\dot{x}^2\n",
    "  = \\frac{1}{2}m\\omega_{0}^2 A^2 \\sin^2(\\omega_{0}t - \\delta).\n",
    "$$\n",
    "\n",
    "The potential energy is given by\n",
    "\n",
    "$$\n",
    "  U(t) = \\frac{1}{2}m\\omega_{0}^2 x^2\n",
    "  = \\frac{1}{2}m\\omega_{0}^2 A^2 \\cos^2(\\omega_{0}t - \\delta).\n",
    "$$\n",
    "\n",
    "The total energy is\n",
    "\n",
    "$$\n",
    "  E(t) = K(t) + U(t)\n",
    "  = \\frac{1}{2}m\\omega_{0}^2 A^2.\n",
    "$$\n",
    "\n",
    "Notice that energy is conserved (does not depend on time)."
   ]
  },
  {
   "cell_type": "markdown",
   "metadata": {},
   "source": [
    "**Exercise [sympy]:** Construct lambdified definitions for kinetic, potential, and total energy."
   ]
  },
  {
   "cell_type": "code",
   "execution_count": null,
   "metadata": {},
   "outputs": [],
   "source": [
    "# sympy variables\n"
   ]
  },
  {
   "cell_type": "code",
   "execution_count": null,
   "metadata": {},
   "outputs": [],
   "source": [
    "# kinetic energy\n"
   ]
  },
  {
   "cell_type": "code",
   "execution_count": null,
   "metadata": {},
   "outputs": [],
   "source": [
    "# potential energy\n"
   ]
  },
  {
   "cell_type": "code",
   "execution_count": null,
   "metadata": {},
   "outputs": [],
   "source": [
    "# total energy\n"
   ]
  },
  {
   "cell_type": "code",
   "execution_count": null,
   "metadata": {},
   "outputs": [],
   "source": [
    "# substitutions\n"
   ]
  },
  {
   "cell_type": "code",
   "execution_count": null,
   "metadata": {},
   "outputs": [],
   "source": [
    "# lambdify\n"
   ]
  },
  {
   "cell_type": "code",
   "execution_count": null,
   "metadata": {},
   "outputs": [],
   "source": [
    "# test data\n"
   ]
  },
  {
   "cell_type": "markdown",
   "metadata": {},
   "source": [
    "**Exercise [matplotlib]:** For the same initial conditions as above, plot the kinetic energy, potential energy, and total energy on the same graph."
   ]
  },
  {
   "cell_type": "code",
   "execution_count": null,
   "metadata": {},
   "outputs": [],
   "source": [
    "### plot energy vs time ###\n",
    "# model parameters\n",
    "\n",
    "# initial conditions\n",
    "\n",
    "# create uniform time grid\n",
    "\n",
    "# plot\n"
   ]
  }
 ],
 "metadata": {
  "kernelspec": {
   "display_name": "Python 3",
   "language": "python",
   "name": "python3"
  },
  "language_info": {
   "codemirror_mode": {
    "name": "ipython",
    "version": 3
   },
   "file_extension": ".py",
   "mimetype": "text/x-python",
   "name": "python",
   "nbconvert_exporter": "python",
   "pygments_lexer": "ipython3",
   "version": "3.5.2"
  }
 },
 "nbformat": 4,
 "nbformat_minor": 2
}
