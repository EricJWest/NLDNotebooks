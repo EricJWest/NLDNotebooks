{
 "cells": [
  {
   "cell_type": "markdown",
   "metadata": {},
   "source": [
    "LaTeX header (do not delete)\n",
    "$$\n",
    "\\newcommand{\\Re}[1]{\\mathrm{Re}\\left\\{ #1 \\right\\}}\n",
    "\\newcommand{\\Im}[1]{\\mathrm{Im}\\left\\{ #1 \\right\\}}\n",
    "\\newcommand{\\avg}[1]{\\left< #1 \\right>}\n",
    "\\newcommand{\\op}[1]{\\mathcal{#1}}\n",
    "$$"
   ]
  },
  {
   "cell_type": "markdown",
   "metadata": {},
   "source": [
    "# Step 4 -- Driven Oscillations, Part 2 (Principle of Superposition)\n",
    "---\n",
    "\n",
    "Linear equations obey the principle of superposition. Let $\\op{L}[\\cdot]$ be a linear operator, defined over smooth functions. To say that this operator is linear means that for any two functions $f_{1}$ and $f_{2}$, and any two real numbers $a$ and $b$, we have\n",
    "\n",
    "$$\n",
    "  \\op{L}[a f_{1} + b f_{2}] \n",
    "  = a\\op{L}[f_{1}] + b \\op{L}[f_{2}].\n",
    "$$\n",
    "\n",
    "This is the principle of superposition in a nutshell, in maybe somewhat formal language. Informally, it means that result of the operator acting on a system is the same as the operator acting on the parts of the system individually, and then adding those results up (superposing them).\n",
    "\n",
    "Applying this to the theory of oscillations, let $\\op{L}$ denote the linear differential operator for damped oscillations, given by\n",
    "\n",
    "$$\n",
    "  \\op{L}[x(t)] = \\ddot{x} + 2\\beta\\dot{x} + \\omega_{0}^2 x.\n",
    "$$\n",
    "\n",
    "Consider two solutions $x_{p1}$ and $x_{p2}$ to two different non-homogeneous equations, satisfying $\\op{L}[x_{p1}(t)]=s_{1}(t)$ and $\\op{L}[x_{p2}(t)]=s_{2}(t)$. The superposition of these solutions is a solution to a non-homogeneous equation whose source is the superposition of the first two non-homogeneous equations. That is\n",
    "\n",
    "$$\n",
    "  \\op{L}[x_{p1}(t) + x_{p2}(t)] \n",
    "  = \\op{L}[x_{p1}(t)] + \\op{L}[x_{p2}(t)] = s(t),\n",
    "$$\n",
    "\n",
    "provided that \n",
    "\n",
    "$$\n",
    "  s(t) = s_{1}(t) + s_{2}(t).\n",
    "$$\n",
    "\n",
    "This result can be exploited in important ways. If we can re-write the source term of a non-homogeneous equation as a linear superposition of simpler source terms, then we can find a solution by divide and conquer: solve the individual, simpler non-homogeneous equations, and then sum them to obtain the full solution. This is the main idea that we will illustrate in this notebook, culminating in the Fourier series."
   ]
  },
  {
   "cell_type": "markdown",
   "metadata": {},
   "source": [
    "## 1. Response to two sinusoidal driving forces\n",
    "\n",
    "In the previous notebook we considered a sinusoidally driven oscillator, given by the equation of motion\n",
    "\n",
    "$$\n",
    "  \\ddot{x} + 2\\beta\\dot{x} + \\omega_{0}^2 x = \\frac{F_{0}}{m}\\cos(\\omega t).\n",
    "$$\n",
    "\n",
    "We found the steady-state solution of this system to take the form\n",
    "\n",
    "$$\n",
    "  x(t) = A(\\omega)\\cos(\\omega t - \\delta(\\omega)),\n",
    "$$\n",
    "\n",
    "where \n",
    "\n",
    "$$\n",
    "  A(\\omega) = \\frac{F_{0}/m}{\\sqrt{(\\omega_{0}^2 - \\omega^2)^2 + (2\\beta\\omega)^2}}\n",
    "  \\quad\\quad,\\quad\\quad\n",
    "  \\delta(\\omega) = \\arctan\\left(\\frac{2\\beta\\omega}{\\omega_{0}^2 - \\omega^2}\\right).\n",
    "$$\n",
    "\n",
    "Now suppose we have two such driving forces present\n",
    "\n",
    "$$\n",
    "  \\ddot{x} + 2\\beta\\dot{x} + \\omega_{0}^2 x = \\frac{F(t)}{m},\n",
    "$$\n",
    "\n",
    "where\n",
    "\n",
    "$$\n",
    "  F(t) = F_{1}(t) + F_{2}(t) \n",
    "  = f_{1}\\cos(\\omega_{1} t) + f_{2}\\cos(\\omega_{2} t)\n",
    "$$\n",
    "\n",
    "Then by the principle of superposition, the solution is $x(t) = x_{1}(t) + x_{2}(t)$, where $x_{1}$ and $x_{2}$ are solutions to the separate non-homogeneous equations\n",
    "\n",
    "$$\n",
    "  \\ddot{x}_{1} + 2\\beta\\dot{x}_{1} + \\omega_{0}^2 x_{1} = \\frac{F_{1}(t)}{m} \\\\\n",
    "  \\ddot{x}_{2} + 2\\beta\\dot{x}_{2} + \\omega_{0}^2 x_{2} = \\frac{F_{2}(t)}{m}.\n",
    "$$\n",
    "\n",
    "These solutions take the same form as above\n",
    "\n",
    "$$\n",
    "  x_{n}(t) = A_{n}(\\omega_{n})\\cos(\\omega_{n} t - \\delta(\\omega_{n}))\n",
    "  \\quad,\\quad\n",
    "  n = 1, 2\n",
    "$$\n",
    "\n",
    "where \n",
    "\n",
    "$$\n",
    "  A_{n}(\\omega_{n}) = \\frac{f_{n}/m}{\\sqrt{(\\omega_{0}^2 - \\omega_{n}^2)^2 + (2\\beta\\omega_{n})^2}}\n",
    "  \\quad\\quad,\\quad\\quad\n",
    "  \\delta(\\omega_{n}) = \\arctan\\left(\\frac{2\\beta\\omega_{n}}{\\omega_{0}^2 - \\omega_{n}^2}\\right)\n",
    "  \\quad,\\quad\n",
    "  n = 1, 2\n",
    "$$\n",
    "\n",
    "**Exercise [pen & paper]:** verify the above."
   ]
  },
  {
   "cell_type": "markdown",
   "metadata": {},
   "source": [
    "**Exercise [matplotlib]:** plot the driving force and response as functions of time for the case with $f_{1}=m\\omega_{0}^2$, $f_{2}=0.5 m\\omega_{0}^2$, $\\omega_{1}=0.5\\omega_{0}$, and $\\omega_{2}=1.5\\omega_{0}$, and $Q=8.0$."
   ]
  },
  {
   "cell_type": "code",
   "execution_count": null,
   "metadata": {},
   "outputs": [],
   "source": [
    "# import packages\n",
    "import numpy as np\n",
    "import matplotlib.pyplot as plt"
   ]
  },
  {
   "cell_type": "code",
   "execution_count": null,
   "metadata": {},
   "outputs": [],
   "source": [
    "### frequency response functions ###\n",
    "# amplitude\n",
    "def amp(omega, mass, omega0, beta, f0):\n",
    "    #complete this function\n",
    "\n",
    "# phase\n",
    "def phase(omega, mass, omega0, beta, f0):\n",
    "    #complete this function"
   ]
  },
  {
   "cell_type": "code",
   "execution_count": null,
   "metadata": {},
   "outputs": [],
   "source": [
    "### driving force ###\n",
    "def driving(t, f0, omega):\n",
    "    #complete this function\n",
    "\n",
    "### response functions ###\n",
    "def response(t, mass, omega0, beta, f0, omega):\n",
    "    #complete this function"
   ]
  },
  {
   "cell_type": "code",
   "execution_count": null,
   "metadata": {},
   "outputs": [],
   "source": [
    "### response for an underdamped oscillator ###\n",
    "# oscillator parameters\n",
    "\n",
    "# uniform time grid\n",
    "\n",
    "# driving forces\n",
    "\n",
    "# response functions\n"
   ]
  },
  {
   "cell_type": "code",
   "execution_count": null,
   "metadata": {},
   "outputs": [],
   "source": [
    "### plot ###\n"
   ]
  },
  {
   "cell_type": "markdown",
   "metadata": {},
   "source": [
    "## 2. Fourier series\n",
    "\n",
    "On can easily show that the functions $\\psi_{n}(x)=\\sin(nx)$ for $n=1,2,\\ldots$ are orthogonal on the interval $(0,\\pi)$ in the sense that their inner product vanishes unless $n=m$. The inner product is\n",
    "\n",
    "$$\n",
    "  (\\psi_{n}, \\psi_{m}) \\equiv \\int_{0}^{\\pi} \\sin(nx)\\sin(mx)\\,dx\n",
    "  = \\delta_{nm}\\frac{\\pi}{2}.\n",
    "$$\n",
    "\n",
    "where $\\delta_{nm}$ is the delta Kronecker symbol (returns 1 if $n=m$, and 0 if $n\\neq m$). \n",
    "\n",
    "The functions can be normalized as follows\n",
    "\n",
    "$$\n",
    "  \\phi_{n}(x) = \\frac{\\psi_{n}}{||\\psi_{n}||}\n",
    "  = \\frac{\\psi_{n}}{\\sqrt{(\\psi_{n},\\psi_{n})}}\n",
    "  = \\sqrt{\\frac{2}{\\pi}}\\sin(nx)\n",
    "  \\quad,\\quad\n",
    "  n = 1, 2, \\ldots\n",
    "$$\n",
    "\n",
    "This establishes that the $\\{\\phi_{n}\\}$ comprise a set of *orthonormal* basis functions on $(0,\\pi)$. \n",
    "\n",
    "**Exercise [pen & paper]:** verify the above statements.\n",
    "\n",
    "Furthermore the set is a *complete* set of basis functions, in the sense that any odd-periodic function on $(0,\\pi)$ can be expanded in terms of these basis functions. The resulting expansion is called a Fourier sine series\n",
    "\n",
    "$$\n",
    "  f(x) \\sim \\sum_{n=1}^{\\infty} b_{n}\\sin(nx),\n",
    "$$\n",
    "\n",
    "where the coefficients are given by\n",
    "\n",
    "$$\n",
    "  b_{n} = \\frac{2}{\\pi}\\int_{0}^{\\pi} f(x)\\sin(nx)\\,dx\n",
    "  \\quad,\\quad\n",
    "  n = 1, 2, \\ldots  \n",
    "$$\n",
    "\n",
    "**Exercise [pen & paper]:** use the above to find the Fourier sine series for....\n",
    "\n",
    "It can similarly be show that the functions $\\tilde{\\psi}_{n}(x)=\\cos(nx)$ for $n=0,1,2,\\ldots$ are orthogonal on the interval $(0,\\pi)$. Their inner products yield\n",
    "\n",
    "$$\n",
    "  (\\tilde{\\psi}_{n}, \\tilde{\\psi}_{m}) \\equiv \\int_{0}^{\\pi} \\cos(nx)\\cos(mx)\\,dx\n",
    "  = \\left\\{\\begin{array}{lll}\n",
    "    \\pi & , & n = m = 0 \\\\\n",
    "    \\frac{\\pi}{2} & , & n = m \\neq 0 \\\\\n",
    "    0 & , & \\text{otherwise}\n",
    "  \\end{array}\\right.\n",
    "$$\n",
    "\n",
    "The normalized functions become\n",
    "\n",
    "$$\n",
    "  \\tilde{\\phi}_{n}(x) = \n",
    "  \\left\\{\\begin{array}{lll}\n",
    "    \\frac{1}{\\sqrt{\\pi}} & , & n = 0 \\\\\n",
    "    \\sqrt{\\frac{2}{\\pi}}\\cos(nx) & , & n = 1, 2, \\ldots\n",
    "  \\end{array}\\right.\n",
    "$$\n",
    "\n",
    "This establishes that the $\\{\\tilde{\\phi}_{n}\\}$ comprise another set of *orthonormal* basis functions on $(0,\\pi)$.\n",
    "\n",
    "**Exercise [pen & paper]:** verify the above statements.\n",
    "\n",
    "This is also a *complete* set of basis functions. In this case, any even-periodic function on $(0,\\pi)$ can be expanded in terms of these basis functions. The resulting expansion is called a Fourier cosine series\n",
    "\n",
    "$$\n",
    "  f(x) \\sim \\frac{a_{0}}{2} + \\sum_{n=1}^{\\infty} a_{n}\\cos(nx),\n",
    "$$\n",
    "\n",
    "where the coefficients are given by\n",
    "\n",
    "$$\n",
    "  a_{n} = \\frac{2}{\\pi}\\int_{0}^{\\pi} f(x)\\cos(nx)\\,dx\n",
    "  \\quad,\\quad\n",
    "  n = 0, 1, \\ldots\n",
    "$$\n",
    "\n",
    "**Exercise [pen & paper]:** use the above to find the Fourier cosines series for ....\n",
    "\n",
    "Orthogonality on the interval $(0,\\pi)$ can be shown to imply orthogonality on the interval $(-\\pi,\\pi)$. So because the sets $\\{\\phi_{n}\\}$ and $\\{\\tilde{\\phi}_{n}\\}$ are orthogonal on $(0,\\pi)$, they are also orthogonal on $(-\\pi,\\pi)$. However, unlike on the interval $(0,\\pi)$, here the joint set of functions $\\{\\phi_{n}, \\tilde{\\phi}_{n}\\}$ is also orthogonal. And so on the interval $(-\\pi,\\pi)$ we may define the Fourier series \n",
    "\n",
    "$$\n",
    "  f(x) \\sim \\frac{a_{0}}{2} + \\sum_{n=1}^{\\infty}(a_{n}\\cos(nx) + b_{n}\\sin(nx)),\n",
    "$$\n",
    "\n",
    "where the coefficients are given by\n",
    "\n",
    "$$\n",
    "  a_{n} = \\frac{1}{\\pi}\\int_{-\\pi}^{\\pi} f(x)\\cos(nx)\\,dx\n",
    "  \\quad,\\quad n = 0, 1, \\ldots \\\\\n",
    "  b_{n} = \\frac{1}{\\pi}\\int_{-\\pi}^{\\pi} f(x)\\sin(nx)\\,dx\n",
    "  \\quad,\\quad n = 1, 2, \\ldots\n",
    "$$\n",
    "\n",
    "In all of the above examples, we denoted the relation between the function $f(x)$ and its series using the symbol \"$\\sim$\". We use this to indicate that the two are only equal if the series in question converges.\n",
    "\n",
    "**Exercise [pen & paper]:** verify that the joint set of functions $\\{\\phi_{n}, \\tilde{\\phi}_{n}\\}$ form an orthonormal basis on $(-\\pi,\\pi)$.\n",
    "\n",
    "**Exercise [pen & paper]:** verify that although $\\{\\phi_{n}\\}$ and $\\{\\tilde{\\phi}_{n}\\}$ form orthonormal bases on $(0,\\pi)$, the joint set of functions $\\{\\phi_{n}, \\tilde{\\phi}_{n}\\}$ do not.\n",
    "\n",
    "**Exercise [pen & paper]:** Consider the change of variable $x\\rightarrow z=\\frac{cx}{\\pi}$. Show that if a function $f(x)$ is periodic with period $2\\pi$, this change of variable may be used to define the Fourier series of $f(z)$ on the rescaled interval $(-c,c)$ as\n",
    "\n",
    "$$\n",
    "  f(z) \\sim \\frac{a_{0}}{2} + \\sum_{n=1}^{\\infty}\\left[a_{n}\\cos\\left(\\frac{n\\pi z}{c}\\right) \n",
    "  + b_{n}\\sin\\left(\\frac{n\\pi z}{c}\\right)\\right],\n",
    "$$\n",
    "\n",
    "where the coefficients are given by\n",
    "\n",
    "$$\n",
    "  a_{n} = \\frac{1}{c}\\int_{-c}^{c} f(z)\\cos\\left(\\frac{n\\pi z}{c}\\right)\\,dz\n",
    "  \\quad,\\quad n = 0, 1, \\ldots \\\\\n",
    "  b_{n} = \\frac{1}{c}\\int_{-c}^{c} f(z)\\sin\\left(\\frac{n\\pi z}{c}\\right)\\,dz\n",
    "  \\quad,\\quad n = 1, 2, \\ldots\n",
    "$$\n",
    "\n",
    "**Exercise [pen & paper]:** (T&M, problem 3-28) using the results of the previous exercise, calculate the first four non-zero terms in the Fourier series expansion of the following function\n",
    "\n",
    "$$\n",
    "  F(t) = \n",
    "  \\left\\{\\begin{array}{llc}\n",
    "    -1 & , & -\\pi/\\omega < t < 0 \\\\\n",
    "    +1 & , & 0 < t < \\pi/\\omega\n",
    "  \\end{array}\\right.\n",
    "$$"
   ]
  },
  {
   "cell_type": "markdown",
   "metadata": {},
   "source": [
    "**Exercise [sympy]:** create a SymPy function to calculate the Fourier series expansion of any input function, for a given number of terms and over a given interval. Test on known functions (for instance, the piecewise function in the previous exercise, or T&M example 3.6)."
   ]
  },
  {
   "cell_type": "code",
   "execution_count": null,
   "metadata": {},
   "outputs": [],
   "source": [
    "### calculate Fourier series coefficients using sympy ###\n",
    "# import sympy\n",
    "import sympy as sym\n",
    "sym.init_printing()\n",
    "\n",
    "# sympy variables\n",
    "t = sym.symbols('t')\n",
    "omega = sym.symbols('omega', positive=True)\n",
    "\n",
    "# calculate the an's\n",
    "def fourier_an(fxn, n, a, b):\n",
    "    #complete this function\n",
    "\n",
    "# calculate the bn's\n",
    "def fourier_bn(fxn, n, a, b):\n",
    "    #complete this function\n",
    "\n",
    "# fourier series\n",
    "def fourier(fxn, maxorder, a, b):\n",
    "    #complete this function"
   ]
  },
  {
   "cell_type": "code",
   "execution_count": null,
   "metadata": {},
   "outputs": [],
   "source": [
    "### T&M, example 3.6 ###\n"
   ]
  },
  {
   "cell_type": "code",
   "execution_count": null,
   "metadata": {},
   "outputs": [],
   "source": [
    "### T&M, problem 3-39 ###\n"
   ]
  },
  {
   "cell_type": "code",
   "execution_count": null,
   "metadata": {},
   "outputs": [],
   "source": [
    "### T&M, problem 3-28 ###\n",
    "# piecewise function\n",
    "\n",
    "# truncated fourier series\n",
    "\n",
    "# show the first four non-zero terms in the fourier series\n"
   ]
  },
  {
   "cell_type": "markdown",
   "metadata": {},
   "source": [
    "**Exercise [matplotlib]:** On the same graph, plot the above step function (from T&M problem 3-28) along with the sum of the first two terms, sum of the first three terms, and sum of the first four terms, in the Fourier series. Notice that the series becomes a better approximation as more terms are added (as expected for a converging series)."
   ]
  },
  {
   "cell_type": "code",
   "execution_count": null,
   "metadata": {},
   "outputs": [],
   "source": [
    "### lambdify ###\n"
   ]
  },
  {
   "cell_type": "code",
   "execution_count": null,
   "metadata": {},
   "outputs": [],
   "source": [
    "### plot fourier series ###\n",
    "# set parameters\n",
    "\n",
    "# uniform time grid\n",
    "\n",
    "# step function (sym.Piecewise does not lambdify nicely)\n",
    "stepf_numpy = np.piecewise(tgrid, [tgrid < 0, tgrid == 0, tgrid > 0], [-1, np.nan, 1])\n",
    "\n",
    "# plot\n"
   ]
  },
  {
   "cell_type": "markdown",
   "metadata": {},
   "source": [
    "**Exercise [matplotlib]:** repeat for the first 20 non-zero terms in Fourier series. Notice the Gibbs phenomenon, discussed briefly in the text (i.e., the sharp edges of the function never quite get resolved smoothly)."
   ]
  },
  {
   "cell_type": "code",
   "execution_count": null,
   "metadata": {},
   "outputs": [],
   "source": [
    "### fourier series ###\n",
    "# sympy variables\n",
    "t = sym.symbols('t')\n",
    "omega = sym.symbols('omega', positive=True)\n",
    "\n",
    "# fourier series\n",
    "\n",
    "# lambdify\n"
   ]
  },
  {
   "cell_type": "code",
   "execution_count": null,
   "metadata": {},
   "outputs": [],
   "source": [
    "### plot fourier series ###\n",
    "# set parameters\n",
    "\n",
    "# uniform time grid\n",
    "\n",
    "# step function (sym.Piecewise does not lambdify nicely)\n",
    "stepf_numpy = np.piecewise(tgrid, [tgrid < 0, tgrid == 0, tgrid > 0], [-1, np.nan, 1])\n",
    "\n",
    "# plot\n"
   ]
  },
  {
   "cell_type": "markdown",
   "metadata": {},
   "source": [
    "## 3. Response to a general periodic driving force\n",
    "\n",
    "We can now return to the non-homogeneous equation for a damped oscillator\n",
    "\n",
    "$$\n",
    "  \\ddot{x} + 2\\beta\\dot{x} + \\omega_{0}^2 x = \\frac{F(t)}{m}.\n",
    "$$\n",
    "\n",
    "If $F(t)$ is any piecewise smooth function with period $\\tau$, then by Fourier's theorem, the driving force has a convergent Fourier series expansion given by\n",
    "\n",
    "$$\n",
    "  F(t) = \\frac{a_{0}}{2} + \\sum_{n=1}^{\\infty} (a_{n}\\cos(n\\omega t) + b_{n}\\sin(n \\omega t)),\n",
    "$$\n",
    "\n",
    "with coefficients\n",
    "\n",
    "$$\n",
    "  a_{n} = \\frac{2}{\\tau}\\int_{0}^{\\tau} F(t')\\cos(n \\omega t') dt' \n",
    "  \\quad,\\quad n=0, 1, \\ldots \\\\\n",
    "  b_{n} = \\frac{2}{\\tau}\\int_{0}^{\\tau} F(t')\\sin(n \\omega t') dt'\n",
    "  \\quad,\\quad n=1, \\ldots\n",
    "$$\n",
    "\n",
    "Because the series converges, we can replace the driving force by its expansion. The response of the oscillator is then found by superposition. The result is\n",
    "\n",
    "$$\n",
    "  x(t) = \\frac{A_{0}}{2} \n",
    "  + \\sum_{n=1}^{\\infty}[A_{n}\\cos(n \\omega t - \\delta_{n}) + B_{n}\\cos(n \\omega t - \\delta_{n})],\n",
    "$$\n",
    "\n",
    "where \n",
    "\n",
    "$$\n",
    "  A_{n} = \\frac{a_{n}/m}{\\sqrt{(\\omega_{0}^2 - n^2\\omega^2)^2 + (2n\\beta\\omega)^2}}\n",
    "  \\quad\\quad,\\quad\\quad\n",
    "  B_{n} = \\frac{b_{n}/m}{\\sqrt{(\\omega_{0}^2 - n^2\\omega^2)^2 + (2n\\beta\\omega)^2}}\n",
    "  \\quad\\quad,\\quad\\quad\n",
    "  \\delta_{n} = \\arctan\\left(\\frac{2n\\beta\\omega}{\\omega_{0}^2 - n^2\\omega^2}\\right).\n",
    "$$\n",
    "\n",
    "or equivalently\n",
    "\n",
    "$$\n",
    "  x(t) = \\frac{C_{0}}{2} \n",
    "  + \\sum_{n=1}^{\\infty}C_{n}\\cos(n \\omega t - \\phi_{n} - \\delta_{n}),\n",
    "$$\n",
    "\n",
    "where \n",
    "\n",
    "$$\n",
    "  C_{n} = \\frac{c_{n}/m}{\\sqrt{(\\omega_{0}^2 - n^2\\omega^2)^2 + (2n\\beta\\omega)^2}}\n",
    "  \\quad\\quad,\\quad\\quad\n",
    "  c_{n} = \\sqrt{a_{n}^2 + b_{n}^2}\n",
    "  \\quad\\quad,\\quad\\quad\n",
    "  \\phi_{n} = \\arctan\\left(\\frac{b_{n}}{a_{n}}\\right)\n",
    "  \\quad,\\quad\n",
    "  b_{0} = 0\n",
    "$$\n",
    "\n",
    "**Exercise [pen & paper]:** verify the expressions for the coefficients $A_{n}$ and $B_{n}$ above.\n",
    "\n",
    "**Exercise [pen & paper]:** verify that the two forms of the response given above are equivalent. In other words, show that the sine and cosine series can re-written in the above form by absorbing a phase into each cosine term. \n"
   ]
  },
  {
   "cell_type": "markdown",
   "metadata": {},
   "source": [
    "**Exercise [sympy]:** calculate the response coefficients for the periodic step function driving force above (from T&M problem 3-28)."
   ]
  },
  {
   "cell_type": "code",
   "execution_count": null,
   "metadata": {},
   "outputs": [],
   "source": [
    "# sympy variables\n"
   ]
  },
  {
   "cell_type": "code",
   "execution_count": null,
   "metadata": {},
   "outputs": [],
   "source": [
    "# calculate response\n"
   ]
  },
  {
   "cell_type": "markdown",
   "metadata": {},
   "source": [
    "**Exercise [matplotlib]:** plot the response to the periodic step function driving force above (from T&M problem 3-28)."
   ]
  },
  {
   "cell_type": "code",
   "execution_count": null,
   "metadata": {},
   "outputs": [],
   "source": [
    "# lambdify\n"
   ]
  },
  {
   "cell_type": "code",
   "execution_count": null,
   "metadata": {},
   "outputs": [],
   "source": [
    "### plot fourier series of response ###\n",
    "# set parameters\n",
    "\n",
    "# uniform time grid\n",
    "\n",
    "# step function (sym.Piecewise does not lambdify nicely)\n",
    "stepf_numpy = np.piecewise(tgrid, [tgrid < 0, tgrid == 0, tgrid > 0], [-1, np.nan, 1])\n",
    "\n",
    "# plot\n"
   ]
  }
 ],
 "metadata": {
  "kernelspec": {
   "display_name": "Python 3",
   "language": "python",
   "name": "python3"
  },
  "language_info": {
   "codemirror_mode": {
    "name": "ipython",
    "version": 3
   },
   "file_extension": ".py",
   "mimetype": "text/x-python",
   "name": "python",
   "nbconvert_exporter": "python",
   "pygments_lexer": "ipython3",
   "version": "3.5.2"
  }
 },
 "nbformat": 4,
 "nbformat_minor": 2
}
