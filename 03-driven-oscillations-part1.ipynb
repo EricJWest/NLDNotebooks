{
 "cells": [
  {
   "cell_type": "markdown",
   "metadata": {},
   "source": [
    "LaTeX header (do not delete)\n",
    "$$\n",
    "\\newcommand{\\Re}[1]{\\mathrm{Re}\\left\\{ #1 \\right\\}}\n",
    "\\newcommand{\\Im}[1]{\\mathrm{Im}\\left\\{ #1 \\right\\}}\n",
    "\\newcommand{\\avg}[1]{\\left< #1 \\right>}\n",
    "$$"
   ]
  },
  {
   "cell_type": "markdown",
   "metadata": {},
   "source": [
    "# Step 3 -- Driven Oscillations, Part 1 (Sinusoidal Forcing)\n",
    "---\n",
    "\n",
    "### Equation of motion\n",
    "\n",
    "Here we begin to study oscillations governed by the linear *non-homogeneous* ODE\n",
    "\n",
    "$$\n",
    "  m\\ddot{x} + b\\dot{x} + kx = F(t),\n",
    "$$\n",
    "\n",
    "where as usual $m$ is the mass of the oscillator, $b$ is a damping parameter, and $k$ is the restoring force constant. What's new here is that the right-hand side of the equation is no longer zero, but instead is a given function of time. This non-zero right-hand side has the effect of an external force acting on the oscillator. Hence, we say the oscillator is 'driven' by an outside force. After dividing by $m$, we will write the equation of motion as\n",
    "\n",
    "$$\n",
    "  \\ddot{x} + 2\\beta\\dot{x} + \\omega_{0}^2 x = \\frac{F_{0}}{m}\\cos(\\omega t)\n",
    "  \\quad\\quad\\text{where}\\quad\\quad\n",
    "  \\omega_{0} \\equiv \\sqrt{\\frac{k}{m}}\n",
    "  \\quad,\\quad\n",
    "  \\beta \\equiv \\frac{b}{2m}.\n",
    "$$\n",
    "\n",
    "In principle, $F(t)$ could be any function of time. However, in this notebook we only consider the special case a sinusoidal driving force, namely\n",
    "\n",
    "$$\n",
    "  F(t) = F_{0}\\cos(\\omega t).\n",
    "$$\n",
    "\n",
    "One subtlety to note is that this driving force has no beginning or end. It is \"on\" for all time. As a result, the solutions we obtain will also have this assumption built into them. If this seems like an unrealistic assumption, it is. In what follows, we are only finding the steady state response to this driving force. For a realistic driving force, which acts for a finite amount of time, the full response will also contain a transient part. We postpone discussion of transient solutions until later notebooks."
   ]
  },
  {
   "cell_type": "markdown",
   "metadata": {},
   "source": [
    "## 1. Frequency response\n",
    "\n",
    "Steady state solutions can be found in a number of ways. Here let's first make the equation of motion complex by making the replacements\n",
    "\n",
    "$$\n",
    "  x(t) \\rightarrow z(t) \n",
    "  \\quad\\quad\\text{where}\\quad\\quad\n",
    "  \\Re{z(t)} = x(t)\n",
    "$$\n",
    "\n",
    "and \n",
    "\n",
    "$$\n",
    "  \\cos(\\omega t) \\rightarrow \\exp(i\\omega t)\n",
    "  \\quad\\quad\\text{where}\\quad\\quad\n",
    "  \\Re{\\exp(i\\omega t)} = \\cos(\\omega t).\n",
    "$$\n",
    "\n",
    "The \"complexified\" equation of motion is then\n",
    "\n",
    "$$\n",
    "  \\ddot{z} + 2\\beta\\dot{z} + \\omega_{0}^2 z = \\frac{F_{0}}{m}\\exp(i\\omega t).\n",
    "$$\n",
    "\n",
    "Next take the (complex) ansatz $z(t)=A(\\omega)e^{i(\\omega t-\\delta(\\omega))}$. Plugging this into the equation of motion yields the auxiliary equation\n",
    "\n",
    "$$\n",
    "  A(\\omega) e^{-i\\delta(\\omega)} = \\frac{F_{0}/m}{-\\omega^2 + 2i\\beta\\omega + \\omega_{0}^2}\n",
    "$$\n",
    "\n",
    "**Exercise [pen & paper]:** verify this.\n",
    "\n",
    "After isolating the complex modulus and argument of the right-hand side of this equation, we obtain expressions $A(\\omega)$ and $\\delta(\\omega)$ in terms of the driving frequency $\\omega$. These are\n",
    "\n",
    "$$\n",
    "  A(\\omega) = \\frac{F_{0}/m}{\\sqrt{(\\omega_{0}^2 - \\omega^2)^2 + (2\\beta\\omega)^2}}\n",
    "  \\quad\\quad,\\quad\\quad\n",
    "  \\delta(\\omega) = \\arctan\\left(\\frac{2\\beta\\omega}{\\omega_{0}^2 - \\omega^2}\\right)\n",
    "$$\n",
    "\n",
    "NOTE: $A$ and $\\delta$ are real variables.\n",
    "\n",
    "**Exercise [pen & paper]:** carry out the complex variable algebra to verify the above. [*Hint*: first obtain the real and imaginary parts of the right-hand side by multiplying numerator and denominator by the complex conjugate of the denominator. Then calculate amplitude and phase.]"
   ]
  },
  {
   "cell_type": "markdown",
   "metadata": {},
   "source": [
    "**Exercise [sympy]:** Use SymPy to show that the function $A(\\omega)$ has a resonance peak at $\\omega_{R}=\\sqrt{\\omega_{0}^2 - 2\\beta}$. [In other words, use SymPy to take the derivative of $A(\\omega)$ with respect to $\\omega$, and find where it is equal to zero.]"
   ]
  },
  {
   "cell_type": "code",
   "execution_count": null,
   "metadata": {},
   "outputs": [],
   "source": [
    "# sympy preliminaries\n",
    "import sympy as sym\n",
    "sym.init_printing()\n",
    "\n",
    "# sympy variables\n",
    "\n",
    "# derivative\n",
    "\n",
    "# set to zero and solve for omega\n"
   ]
  },
  {
   "cell_type": "markdown",
   "metadata": {},
   "source": [
    "### Q-factor\n",
    "It is often useful to define the Q-factor (\"quality\" factor) of a system.  This is usually defined in one of two ways. The definition that we will use in what follows is\n",
    "\n",
    "$$\n",
    "  Q \\equiv \\frac{\\omega_{0}}{2\\beta}.\n",
    "$$\n",
    "\n",
    "Alternatively, Q is sometimes defined in terms of $\\omega_{R}$ instead of $\\omega_{0}$ (for example, see Thornton and Marion (2.64)). For a weakly damped system ($\\beta \\ll \\omega_{0}$), the two definitions reduce to the same thing. Regardless of which of these two definitions is used, a high-Q system is one with very little damping; a low-Q system is heavily damped."
   ]
  },
  {
   "cell_type": "markdown",
   "metadata": {},
   "source": [
    "**Exercise [matplotlib]:** Using the above results, plot $A(\\omega)$ and $\\delta(\\omega)$ as functions of the driving frequency $\\omega$. Do this for several values of $Q$."
   ]
  },
  {
   "cell_type": "code",
   "execution_count": null,
   "metadata": {},
   "outputs": [],
   "source": [
    "# import packages\n",
    "import numpy as np\n",
    "import matplotlib.pyplot as plt"
   ]
  },
  {
   "cell_type": "code",
   "execution_count": null,
   "metadata": {},
   "outputs": [],
   "source": [
    "### frequency response functions ###\n",
    "# amplitude\n",
    "def amp(omega, mass, omega0, beta, f0):\n",
    "    #complete this function\n",
    "    \n",
    "# phase\n",
    "def phase(omega, mass, omega0, beta, f0):\n",
    "    #complete this function"
   ]
  },
  {
   "cell_type": "code",
   "execution_count": null,
   "metadata": {},
   "outputs": [],
   "source": [
    "### plot frequency response, amplitude and phase ###\n",
    "# model parameters\n",
    "\n",
    "# uniform frequency grid\n",
    "\n",
    "# plot\n"
   ]
  },
  {
   "cell_type": "markdown",
   "metadata": {},
   "source": [
    "## 2. Steady-state solutions\n",
    "\n",
    "Recall that we started with the complex ansatz $z(t) = A(\\omega)e^{i(\\omega t - \\delta(\\omega)}$, plugged this into the complexified equation of motion, and obtained expressions for $A(\\omega)$ and $\\delta(\\omega)$ and examined their properties. Now let's return to finding the actual steady-state solutions. This is done by taking the real part of $z(t)$\n",
    "\n",
    "$$\n",
    "  x(t) = \\Re{z(t)}\n",
    "  = \\Re{A(\\omega)e^{i(\\omega t - \\delta(\\omega))}}\n",
    "  = A(\\omega)\\cos(\\omega t - \\delta(\\omega))\n",
    "$$\n",
    "\n",
    "NOTE: this solution contains no information about initial conditions. The reason is that this is a steady-state solution. From an ideal point of view, the driving force as well as the response have been occuring for all time, without beginning or end. And so initial conditions do not apply. Alternatively, from a realistic point of view, steady-state solutions represent the response after the system has settled down into a permanent pattern. If any friction is present, any transient (or non-steady-state) behavior has decayed away. In that sense, initial conditions of the system have been erased, and so they do not appear in the solution. We will see later that the initial conditions only appear in the transient part of the full solution. "
   ]
  },
  {
   "cell_type": "markdown",
   "metadata": {},
   "source": [
    "**Exercise [matplotlib]:** Using the above results, plot the responses for an undamped oscillator with driving frequencies $\\omega/\\omega_{0} = [0.5, 0.9, 1.1, 2.0]$. Verify that the amplitude grows as $\\omega\\rightarrow \\omega_{0}$, and the phase lag approaches 180 degrees when $\\omega>\\omega_{0}$."
   ]
  },
  {
   "cell_type": "code",
   "execution_count": null,
   "metadata": {},
   "outputs": [],
   "source": [
    "### driving force ###\n",
    "def driving(t, f0, omega):\n",
    "    #complete this function\n",
    "    \n",
    "### response ###\n",
    "def response(t, mass, omega0, beta, f0, omega):\n",
    "    #complete this function"
   ]
  },
  {
   "cell_type": "code",
   "execution_count": null,
   "metadata": {},
   "outputs": [],
   "source": [
    "### plot response for an undamped oscillator ###\n",
    "# model parameters\n",
    "\n",
    "# uniform time grid\n",
    "\n",
    "# plot\n"
   ]
  },
  {
   "cell_type": "markdown",
   "metadata": {},
   "source": [
    "**Exercise [matplotlib]:** Repeat for a damped oscillator with $Q=[1.0, 4.0, 16.0]$."
   ]
  },
  {
   "cell_type": "code",
   "execution_count": null,
   "metadata": {},
   "outputs": [],
   "source": [
    "### plot response for a damped oscillator ###\n",
    "# model parameters\n",
    "\n",
    "# uniform time grid\n",
    "\n",
    "# plot\n"
   ]
  },
  {
   "cell_type": "markdown",
   "metadata": {},
   "source": [
    "## 3. Energy\n",
    "\n",
    "The energy in the steady-state response, averaged over the driving force period ($T=2\\pi/\\omega$), is given by\n",
    "\n",
    "$$\n",
    "  \\avg{K(t, \\omega)} = \\frac{1}{2}m\\omega^2\\avg{\\dot{x}^2}\n",
    "  = \\frac{1}{4}m\\omega^2 A(\\omega)^2\n",
    "$$\n",
    "$$\n",
    "  \\avg{U(t, \\omega)} = \\frac{1}{2}m\\omega_{0}^2 \\avg{x^2}\n",
    "  = \\frac{1}{4}m\\omega_{0}^2 A(\\omega)^2\n",
    "$$\n",
    "$$\n",
    "  \\avg{E(t, \\omega)} = \\avg{K(t, \\omega)} + \\avg{U(t, \\omega)} \n",
    "  = \\frac{1}{4}m(\\omega^2 + \\omega_{0}^2)A(\\omega)^2\n",
    "$$\n",
    "\n",
    "In one of the exercises above, you were asked to show that the resonance peak of $A(\\omega)$ occurs at $\\omega_{R} = \\sqrt{\\omega_{0}^2 - 2\\beta^2}$. Average potential energy also peaks at the resonance frequency $\\omega_{R}$, because it only depends on $\\omega$ through the function $A(\\omega)$. On the other hand, the average kinetic energy peaks at the natural frequency of the oscillator, $\\omega_{0}$, which for a damped oscillator is always at a higher frequency than the resonance frequency. Therefore, for a damped oscillator, potential energy and kinetic energy resonate at different frequencies.\n",
    "\n",
    "**Exercise [pen & paper]:** verify the above statements.\n",
    "\n",
    "**Exercise [pen & paper]:** Examine the asymptotic behavior of the average kinetic, potential, and total energy. Explain why a driven mass on a spring is sometimes called \"stiffness dominated\" in the regime $\\omega\\ll\\omega_{0}$, and in the opposite regime $\\omega\\gg\\omega_{0}$ is called \"mass dominated\". "
   ]
  },
  {
   "cell_type": "markdown",
   "metadata": {},
   "source": [
    "**Exercise [matplotlib]:** plot the average kinetic energy, average potential energy, and average total energy on the same graph, as functions of the driving frequency. Do this for a value of $\\beta$ (or $Q$) where the peaks of each quantity are easily resolved. Clearly demonstrate, graphically, that the peak of the kinetic energy coincides with the natural frequency of the system ($\\omega_{0}$), the potential energy peaks at the resonant frequency ($\\omega_{R}$), and the total energy peaks somewhere in between the two. Also note how the three curves behave in the asymptotic regimes $\\omega\\ll\\omega_{0}$ and $\\omega\\gg\\omega_{0}$."
   ]
  },
  {
   "cell_type": "code",
   "execution_count": null,
   "metadata": {},
   "outputs": [],
   "source": [
    "### energy functions ###\n",
    "# kinetic energy\n",
    "def energy_kinetic(omega, mass, omega0, beta, f0):\n",
    "    #complete this function\n",
    "\n",
    "# potential energy\n",
    "def energy_potential(omega, mass, omega0, beta, f0):\n",
    "    #complete this function\n",
    "\n",
    "# total energy\n",
    "def energy_total(omega, mass, omega0, beta, f0):\n",
    "    #complete this function"
   ]
  },
  {
   "cell_type": "code",
   "execution_count": null,
   "metadata": {},
   "outputs": [],
   "source": [
    "### plot frequency response of energy ###\n",
    "# model parameters\n",
    "\n",
    "# uniform frequency grid\n",
    "\n",
    "# plot\n"
   ]
  },
  {
   "cell_type": "markdown",
   "metadata": {},
   "source": [
    "## 4. Power and energy balance\n",
    "\n",
    "The average power delivered to the system by the driving force can be shown to be\n",
    "\n",
    "$$\n",
    "  \\avg{P_\\mathrm{driving}} = \\avg{F(t)\\dot{x}(t)}\n",
    "  = \\frac{F_{0}}{4m\\beta}[R(\\omega)]^2\n",
    "$$\n",
    "\n",
    "where $R(\\omega)$ is sometimes called the response function, given by\n",
    "\n",
    "$$\n",
    "  R(\\omega) = \\frac{2\\beta\\omega}{\\sqrt{(\\omega_{0}^2 - \\omega^2)^2 + (2\\beta\\omega)^2}}.\n",
    "$$\n",
    "\n",
    "The response fuction has the nice properties of being dimensionless, it has its peak at $\\omega_{0}$ and peak value of 1. This implies that the average power also has a peak at $\\omega_{0}$ and that its peak value is given by $P_\\mathrm{max}=F_{0}^2/(4m\\beta)$.\n",
    "\n",
    "The average power absorbed by the damping force can also be calculated, given by $\\avg{P_\\mathrm{damping}}=\\avg{F(t)\\dot{x}(t)}$. The result is equal but opposite to the average power delivered to the system by the driving force. That is\n",
    "\n",
    "$$\n",
    "  \\avg{P_\\mathrm{damping}} = -\\avg{P_\\mathrm{driving}}\n",
    "$$\n",
    "\n",
    "This demonstrates energy balance in the system, on average (i.e., the same amount of energy added to the oscillator each cycle by the driving force is removed by the damping force).\n",
    "\n",
    "**Exercise [pen & paper]:** verify the energy balance statement above.\n",
    "\n",
    "**Exercise [pen & paper]:** verify directly that the total average power delivered to the system, given by $\\avg{P_\\mathrm{total}}=\\frac{d\\avg{E}}{dt}$, vanishes identically."
   ]
  },
  {
   "cell_type": "markdown",
   "metadata": {},
   "source": [
    "**Exercise [sympy]:** verify that the response function, $R(\\omega)$ define above, has a peak at $\\omega_{0}$ and has peak value of 1."
   ]
  },
  {
   "cell_type": "code",
   "execution_count": null,
   "metadata": {},
   "outputs": [],
   "source": [
    "# sympy preliminaries\n",
    "import sympy as sym\n",
    "sym.init_printing()"
   ]
  },
  {
   "cell_type": "code",
   "execution_count": null,
   "metadata": {},
   "outputs": [],
   "source": [
    "# sympy variables\n"
   ]
  },
  {
   "cell_type": "code",
   "execution_count": null,
   "metadata": {},
   "outputs": [],
   "source": [
    "# response function\n"
   ]
  },
  {
   "cell_type": "code",
   "execution_count": null,
   "metadata": {},
   "outputs": [],
   "source": [
    "# peak frequency\n"
   ]
  },
  {
   "cell_type": "code",
   "execution_count": null,
   "metadata": {},
   "outputs": [],
   "source": [
    "# peak value\n"
   ]
  },
  {
   "cell_type": "markdown",
   "metadata": {},
   "source": [
    "## 5. Additional interpretations of Q\n",
    "\n",
    "We defined the Q-factor above as \n",
    "\n",
    "$$\n",
    "  Q \\equiv \\frac{\\omega_{0}}{2\\beta}.\n",
    "$$\n",
    "\n",
    "We saw that this is a convenient dimensionless quantity that indicates how undamped the system is (high-Q corresponding to weak damping).\n",
    "\n",
    "We mentioned above that an alternative definition of the Q-factor is in terms of the resonance frequency instead of the natural frequency \n",
    "\n",
    "$$\n",
    "  Q_{2} \\equiv \\frac{\\omega_{R}}{2\\beta}.\n",
    "$$\n",
    "\n",
    "This agrees withour definition in the weak-damping limit, since $\\omega_{R}\\simeq\\omega_{0}$ when $\\beta\\ll\\omega_{0}$.\n",
    "\n",
    "The Q-factor has a direct interpretation in terms of power and energy balance of the system. We saw above that the average power delivered to the system peaks at $\\omega_{0}$ with peak value given by $P_\\mathrm{max}$. For a weakly damped oscillator ($\\beta\\ll\\omega_{0}$), the frequencies at half-max are\n",
    "\n",
    "$$\n",
    "  \\omega_{\\pm} \\simeq \\omega_{0} \\pm \\beta \n",
    "$$\n",
    "\n",
    "If we define the full-width at half-max power as $\\Delta{\\omega}\\equiv\\omega_{+}-\\omega_{-}$, then in the weak damping limit we have $\\Delta{\\omega}\\simeq 2\\beta$. Therefore an alternative definition of the Q-factor is \n",
    "\n",
    "$$\n",
    "  Q_{3} \\equiv \\frac{\\omega_{0}}{\\Delta{\\omega}}\n",
    "  \\simeq \\frac{\\omega_{0}}{2\\beta}.\n",
    "$$\n",
    "\n",
    "Yet another interpretation of Q is the following. The ratio of the total energy stored in the oscillator per cycle to the energy dissipated per cycle, near peak power, is  \n",
    "\n",
    "$$\n",
    "  \\left(\\frac{\\text{energy stored}}{\\text{energy dissipated per cycle}}\\right)\n",
    "  = \\frac{\\avg{E}}{\\avg{P}}\\frac{\\omega}{2\\pi} \n",
    "  \\simeq \\frac{1}{2\\pi}\\frac{\\omega_{0}}{2\\beta}.\n",
    "$$\n",
    "\n",
    "Therefore an alternative definition of Q that is often used is \n",
    "\n",
    "$$\n",
    "   Q_{4} \\equiv 2\\pi \\times \\left(\\frac{\\text{energy stored}}{\\text{energy dissipated per cycle}}\\right)\n",
    "   = \\omega \\times \\left(\\frac{\\text{energy stored}}{\\text{power dissipated}}\\right)\n",
    "   \\simeq \\frac{\\omega_{0}}{2\\beta}.\n",
    "$$\n",
    "\n",
    "All of these alternative definitions are equivalent in the weak-damping limit.\n",
    "\n",
    "$$\n",
    "  Q \\simeq Q_{2} \\simeq Q_{3} \\simeq Q_{4} \\simeq \\frac{\\omega_{0}}{2\\beta}.\n",
    "$$\n",
    "\n",
    "**Exercise [pen & paper]:** verify that $\\Delta{\\omega}\\simeq 2\\beta$ for a weakly damped oscillator.\n",
    "\n",
    "**Exercise [pen & paper]:** verify that Q is related to the ratio of energy stored to the energy dissipated per cycle, as stated above."
   ]
  },
  {
   "cell_type": "markdown",
   "metadata": {},
   "source": [
    "**Exercise [matplotlib]:** plot the power frequency response for $Q=[2,4,8]$. Indicate the FWHM on each plot."
   ]
  },
  {
   "cell_type": "code",
   "execution_count": null,
   "metadata": {},
   "outputs": [],
   "source": [
    "# avg power delivered\n",
    "def power_avg(omega, mass, omega0, beta, f0):\n",
    "    #complete this function"
   ]
  },
  {
   "cell_type": "code",
   "execution_count": null,
   "metadata": {},
   "outputs": [],
   "source": [
    "### plot frequency response of power ###\n",
    "# model parameters\n",
    "\n",
    "# uniform frequency grid\n",
    "\n",
    "# plot\n"
   ]
  }
 ],
 "metadata": {
  "kernelspec": {
   "display_name": "Python 3",
   "language": "python",
   "name": "python3"
  },
  "language_info": {
   "codemirror_mode": {
    "name": "ipython",
    "version": 3
   },
   "file_extension": ".py",
   "mimetype": "text/x-python",
   "name": "python",
   "nbconvert_exporter": "python",
   "pygments_lexer": "ipython3",
   "version": "3.5.2"
  }
 },
 "nbformat": 4,
 "nbformat_minor": 2
}
