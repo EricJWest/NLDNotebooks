{
 "cells": [
  {
   "cell_type": "markdown",
   "metadata": {},
   "source": [
    "LaTeX header (do not delete)\n",
    "$$\n",
    "\\newcommand{\\Re}[1]{\\mathrm{Re}\\left\\{ #1 \\right\\}}\n",
    "\\newcommand{\\Im}[1]{\\mathrm{Im}\\left\\{ #1 \\right\\}}\n",
    "\\newcommand{\\avg}[1]{\\left< #1 \\right>}\n",
    "$$"
   ]
  },
  {
   "cell_type": "markdown",
   "metadata": {},
   "source": [
    "# Step 2 -- Damped Oscillations\n",
    "---\n",
    "\n",
    "### Equation of motion\n",
    "\n",
    "Here we consider a 1D oscillator whose motion is governed by the linear ODE\n",
    "\n",
    "$$\n",
    "  m\\ddot{x} + b\\dot{x} + kx = 0.\n",
    "$$\n",
    "\n",
    "As before, $m$ is the mass of the oscillator and $k$ is the 'spring constant' of the linear restoring force. Here we have added a term proportional to the velocity. When such terms have the right sign, they give rise to retarding or dissipational forces (e.g., in simple models of air resistance). Here the strenght of the damping is controlled by the parameter $b$. We write the equation of motion as\n",
    "\n",
    "$$\n",
    "  \\ddot{x} + 2\\beta\\dot{x} + \\omega_{0}^2 x = 0\n",
    "  \\quad\\quad\\text{with}\\quad\\quad\n",
    "  \\omega_{0} \\equiv \\sqrt{\\frac{k}{m}}\n",
    "  \\quad,\\quad\n",
    "  \\beta \\equiv \\frac{b}{2m}.\n",
    "$$\n",
    "\n",
    "### Solutions\n",
    "\n",
    "The solutions can be found by starting with the ansatz $x(t)=e^{st}$. Plugging this into the equation of motion yields the auxiliary equation and its roots\n",
    "\n",
    "$$\n",
    "  s^2 + 2\\beta s + \\omega_{0}^2 = 0 \n",
    "  \\quad\\quad\\Rightarrow\\quad\\quad\n",
    "  s_{\\pm} = -\\beta \\pm \\sqrt{\\beta^2 - \\omega_{0}^2}.\n",
    "$$\n",
    "\n",
    "There are three different regimes of solutions, depending on the strength of the damping:\n",
    "\n",
    "$$\n",
    "  \\begin{array}{ll}\n",
    "    \\text{underdamping:} & \n",
    "    \\beta < \\omega_{0} \\\\\n",
    "    \\text{overdamping:} & \n",
    "    \\beta > \\omega_{0} \\\\\n",
    "    \\text{critical damping:} & \n",
    "    \\beta = \\omega_{0}\n",
    "  \\end{array}\n",
    "$$\n",
    "\n",
    "We will examine each of these cases in turn.\n",
    "\n",
    "**Exercise [pen & paper]:** verify the expressions for the auxiliary equation and its roots."
   ]
  },
  {
   "cell_type": "markdown",
   "metadata": {},
   "source": [
    "## 1. Underdamping\n",
    "\n",
    "When $\\beta < \\omega_{0}$, the roots of the auxiliary equation are complex\n",
    "\n",
    "$$\n",
    "  s_{\\pm} = -\\beta \\pm i\\omega_{1}\n",
    "  \\quad\\quad\\text{where}\\quad\\quad\n",
    "  \\omega_{1} = \\sqrt{\\omega_{0}^2 - \\beta^2},\n",
    "$$\n",
    "\n",
    "which leads to solutions of the form\n",
    "\n",
    "$$\n",
    "  \\begin{array}{ll}\n",
    "    \\text{Form 1:} & \n",
    "    x(t) = e^{-\\beta t}[A_{1}\\cos(\\omega_{1}t) + B_{1}\\sin(\\omega_{1}t)] \\\\\n",
    "    \\text{Form 2:} & \n",
    "    x(t) = e^{-\\beta t}[A_{2}e^{i\\omega_{1}t} + B_{2}e^{-i\\omega_{1}t}] \\\\\n",
    "    \\text{Form 3:} & \n",
    "    x(t) = e^{-\\beta t}[A\\cos(\\omega_{1}t - \\delta)]\n",
    "  \\end{array}\n",
    "$$\n",
    "\n",
    "(See the notebook on simple harmonic oscillations for relationships between these forms.)\n",
    "\n",
    "We will use form 3 as our prototype. In terms of initial conditions $x_{0}$ and $\\dot{x}_{0}$, we have \n",
    "\n",
    "$$\n",
    "  A = \\sqrt{x_{0}^2 + \\left(\\frac{\\dot{x}_{0} + \\beta x_{0}}{\\omega_{1}}\\right)^2}\n",
    "  \\quad,\\quad\n",
    "  \\delta = \\arctan\\left(\\frac{\\dot{x}_{0} + \\beta x_{0}}{\\omega_{1} x_{0}}\\right).\n",
    "$$\n",
    "\n",
    "**Exercise [pen & paper]:** verify the above.\n",
    "\n",
    "**Exercise [pen & paper]:** obtain the analogous relations for forms 1 and 2."
   ]
  },
  {
   "cell_type": "markdown",
   "metadata": {},
   "source": [
    "**Exercise [sympy]:** use SymPy to define symbolic expressions for the position, velocity, and acceleration, corresponding to form 3 above."
   ]
  },
  {
   "cell_type": "code",
   "execution_count": null,
   "metadata": {},
   "outputs": [],
   "source": [
    "#sympy preliminaries\n",
    "import sympy as sym\n",
    "sym.init_printing()"
   ]
  },
  {
   "cell_type": "code",
   "execution_count": null,
   "metadata": {},
   "outputs": [],
   "source": [
    "# sympy variables\n"
   ]
  },
  {
   "cell_type": "code",
   "execution_count": null,
   "metadata": {},
   "outputs": [],
   "source": [
    "# position\n"
   ]
  },
  {
   "cell_type": "code",
   "execution_count": null,
   "metadata": {},
   "outputs": [],
   "source": [
    "# velocity\n"
   ]
  },
  {
   "cell_type": "code",
   "execution_count": null,
   "metadata": {},
   "outputs": [],
   "source": [
    "# acceleration\n"
   ]
  },
  {
   "cell_type": "markdown",
   "metadata": {},
   "source": [
    "**Exercise [sympy]:** create lambdified functions for position, velocity, and accelereation as functions of $(t, \\omega_{0}, \\beta, x_{0}, \\dot{x}_{0})$. Test this by creating an array of position, velocity, and acceleration data for $\\omega_{0}=1.0$, $\\beta=0.1$, $x_{0}=1.0$, $\\dot{x}_{0}=0$, and $t=0,1,2,\\ldots,10$."
   ]
  },
  {
   "cell_type": "code",
   "execution_count": null,
   "metadata": {},
   "outputs": [],
   "source": [
    "# substitutions\n"
   ]
  },
  {
   "cell_type": "code",
   "execution_count": null,
   "metadata": {},
   "outputs": [],
   "source": [
    "#lambdify\n"
   ]
  },
  {
   "cell_type": "code",
   "execution_count": null,
   "metadata": {},
   "outputs": [],
   "source": [
    "#test data\n"
   ]
  },
  {
   "cell_type": "markdown",
   "metadata": {},
   "source": [
    "**Exercise [matplotlib]:** Using the above results, plot the motion for underdamped oscillations for three different values of $\\beta$, with initial conditions $x_{0}=L$ and $\\dot{x}_{0}=\\omega_{0}L$, in terms of an arbitrary length scale $L$."
   ]
  },
  {
   "cell_type": "code",
   "execution_count": null,
   "metadata": {},
   "outputs": [],
   "source": [
    "# import packages\n",
    "import numpy as np\n",
    "import matplotlib.pyplot as plt"
   ]
  },
  {
   "cell_type": "code",
   "execution_count": null,
   "metadata": {},
   "outputs": [],
   "source": [
    "### plot displacement vs time ###\n",
    "# model parameters\n",
    "\n",
    "# initial conditions\n",
    "\n",
    "# uniform time grid\n",
    "\n",
    "# plot\n"
   ]
  },
  {
   "cell_type": "markdown",
   "metadata": {},
   "source": [
    "## 2. Overdamping\n",
    "\n",
    "When $\\beta > \\omega_{0}$, the roots of the auxiliary equation are distinct and real\n",
    "\n",
    "$$\n",
    "  s_{\\pm} = -\\beta \\pm \\omega_{2}\n",
    "  \\quad\\quad\\text{where}\\quad\\quad\n",
    "  \\omega_{2} = \\sqrt{\\beta^2 - \\omega_{0}^2},\n",
    "$$\n",
    "\n",
    "which leads to solutions of the form\n",
    "\n",
    "$$\n",
    "  x(t) = e^{-\\beta t}[A_{2}e^{\\omega_{2}t} + B_{2}e^{-\\omega_{2}t}] \\\\\n",
    "$$\n",
    "\n",
    "In terms of initial conditions $x_{0}$ and $\\dot{x}_{0}$, we have \n",
    "\n",
    "$$\n",
    "  A_{2} = \\frac{1}{2}\\left(x_{0} + \\frac{\\dot{x}_{0} + \\beta x_{0}}{\\omega_{2}}\\right)\n",
    "  \\quad,\\quad\n",
    "  B_{2} = \\frac{1}{2}\\left(x_{0} - \\frac{\\dot{x}_{0} + \\beta x_{0}}{\\omega_{2}}\\right).\n",
    "$$\n",
    "\n",
    "**Exercise [pen & paper]:** verify the above.\n",
    "\n",
    "**Exercise [pen & paper]:** find another form of the solution in terms of hyperbolic functions and express the coefficients in terms of initial conditions."
   ]
  },
  {
   "cell_type": "markdown",
   "metadata": {},
   "source": [
    "**Exercise [sympy]:** use SymPy to define symbolic expressions for the position, velocity, and acceleration for overdamped oscillations."
   ]
  },
  {
   "cell_type": "code",
   "execution_count": null,
   "metadata": {},
   "outputs": [],
   "source": [
    "# sympy variables\n"
   ]
  },
  {
   "cell_type": "code",
   "execution_count": null,
   "metadata": {},
   "outputs": [],
   "source": [
    "# position\n"
   ]
  },
  {
   "cell_type": "code",
   "execution_count": null,
   "metadata": {},
   "outputs": [],
   "source": [
    "# velocity\n"
   ]
  },
  {
   "cell_type": "code",
   "execution_count": null,
   "metadata": {},
   "outputs": [],
   "source": [
    "# acceleration\n"
   ]
  },
  {
   "cell_type": "markdown",
   "metadata": {},
   "source": [
    "**Exercise [sympy]:** create lambdified functions for position, velocity, and accelereation as functions of $(t, \\omega_{0}, \\beta, x_{0}, \\dot{x}_{0})$. Test this by creating an array of position, velocity, and acceleration data for $\\omega_{0}=1.0$, $\\beta=0.1$, $x_{0}=1.0$, $\\dot{x}_{0}=0$, and $t=0,1,2,\\ldots,10$."
   ]
  },
  {
   "cell_type": "code",
   "execution_count": null,
   "metadata": {},
   "outputs": [],
   "source": [
    "# substitutions\n"
   ]
  },
  {
   "cell_type": "code",
   "execution_count": null,
   "metadata": {},
   "outputs": [],
   "source": [
    "#lambdify\n"
   ]
  },
  {
   "cell_type": "code",
   "execution_count": null,
   "metadata": {},
   "outputs": [],
   "source": [
    "#test data\n"
   ]
  },
  {
   "cell_type": "markdown",
   "metadata": {},
   "source": [
    "**Exercise [matplotlib]:** Using the above results, plot the motion for overdamped oscillations for three different values of $\\beta$, with initial conditions $x_{0}=L$ and $\\dot{x}_{0}=\\omega_{0}L$, in terms of an arbitrary length scale $L$."
   ]
  },
  {
   "cell_type": "code",
   "execution_count": null,
   "metadata": {},
   "outputs": [],
   "source": [
    "### plot displacement vs time ###\n",
    "# model parameters\n",
    "\n",
    "# initial conditions\n",
    "\n",
    "# uniform time grid\n",
    "\n",
    "# plot\n"
   ]
  },
  {
   "cell_type": "markdown",
   "metadata": {},
   "source": [
    "## 3. Critical damping\n",
    "\n",
    "When $\\beta = \\omega_{0}$, the roots of the auxiliary equation are real, but degenerate\n",
    "\n",
    "$$\n",
    "  s_{\\pm} = -\\beta.\n",
    "$$\n",
    "\n",
    "In this case, a second independent solution has the form $te^{-\\beta t}$. The general solution then takes the form\n",
    "\n",
    "$$\n",
    "  x(t) = e^{-\\beta t}[A_{3} + B_{3}t] \\\\\n",
    "$$\n",
    "\n",
    "In terms of initial conditions $x_{0}$ and $\\dot{x}_{0}$, we have \n",
    "\n",
    "$$\n",
    "  A_{3} = x_{0}\n",
    "  \\quad,\\quad\n",
    "  B_{3} = \\dot{x}_{0} + \\beta x_{0}.\n",
    "$$\n",
    "\n",
    "**Exercise [pen & paper]:** verify the above."
   ]
  },
  {
   "cell_type": "markdown",
   "metadata": {},
   "source": [
    "**Exercise [sympy]:** use SymPy to define symbolic expressions for the position, velocity, and acceleration for critically damped oscillations."
   ]
  },
  {
   "cell_type": "code",
   "execution_count": null,
   "metadata": {},
   "outputs": [],
   "source": [
    "# sympy variables\n"
   ]
  },
  {
   "cell_type": "code",
   "execution_count": null,
   "metadata": {},
   "outputs": [],
   "source": [
    "# position\n"
   ]
  },
  {
   "cell_type": "code",
   "execution_count": null,
   "metadata": {},
   "outputs": [],
   "source": [
    "# velocity\n"
   ]
  },
  {
   "cell_type": "code",
   "execution_count": null,
   "metadata": {},
   "outputs": [],
   "source": [
    "# acceleration\n"
   ]
  },
  {
   "cell_type": "markdown",
   "metadata": {},
   "source": [
    "**Exercise [sympy]:** create lambdified functions for position, velocity, and accelereation as functions of $(t, \\omega_{0}, \\beta, x_{0}, \\dot{x}_{0})$. Test this by creating an array of position, velocity, and acceleration data for $\\omega_{0}=1.0$, $\\beta=0.1$, $x_{0}=1.0$, $\\dot{x}_{0}=0$, and $t=0,1,2,\\ldots,10$."
   ]
  },
  {
   "cell_type": "code",
   "execution_count": null,
   "metadata": {},
   "outputs": [],
   "source": [
    "# substitutions\n"
   ]
  },
  {
   "cell_type": "code",
   "execution_count": null,
   "metadata": {},
   "outputs": [],
   "source": [
    "#lambdify\n"
   ]
  },
  {
   "cell_type": "code",
   "execution_count": null,
   "metadata": {},
   "outputs": [],
   "source": [
    "#test data\n"
   ]
  },
  {
   "cell_type": "markdown",
   "metadata": {},
   "source": [
    "**Exercise [matplotlib]:** Using the above results, plot the motion for critically damped oscillations, with initial conditions $x_{0}=L$ and $\\dot{x}_{0}=\\omega_{0}L$, in terms of an arbitrary length scale $L$. Contrast this with the cases of underdamping and overdamping by plotting at least one example of each on the same graph."
   ]
  },
  {
   "cell_type": "code",
   "execution_count": null,
   "metadata": {},
   "outputs": [],
   "source": [
    "### plot displacement vs time ###\n",
    "# model parameters\n",
    "\n",
    "# initial conditions\n",
    "\n",
    "# uniform time grid\n",
    "\n",
    "# plot\n"
   ]
  },
  {
   "cell_type": "markdown",
   "metadata": {},
   "source": [
    "## 4. Weak damping and time-averaged energy\n",
    "\n",
    "Here we study the special case of a weakly damped oscillator, defined by $\\beta \\ll \\omega_{0}$. In this case, oscillations occur inside of a well-defined envelope, given by $e^{-\\beta t}$. In other words, there is a separation of time scales. There is a short time scale associated with oscillations, given by $\\omega_{1}^{-1}$, and a long time scale associated with the decaying amplitude, given by $\\beta^{-1}$. Because of this, if we perform time-averaging over the scale $\\omega_{0}^{-1}$, we can treat $\\beta t$ as being essentially constant (i.e., the change in amplitude on this time scale is negligible).\n",
    "\n",
    "The time-average of a function $f(t)$ over some time interval $\\tau$ is defined as\n",
    "\n",
    "$$\n",
    "  \\avg{f(t)} \\equiv \\frac{1}{\\tau}\\int_{0}^{\\tau} f(t)dt = \\frac{1}{2\\pi}\\int_{0}^{u}f(u)du,\n",
    "$$\n",
    "\n",
    "where we have made a change of variable $u=\\frac{2\\pi t}{\\tau}$. \n",
    "\n",
    "**Exercise [pen & paper]:** calculate by hand the averages $\\avg{\\cos{u}}$, $\\avg{\\sin{u}}$, $\\avg{\\cos{u}\\sin{u}}$, $\\avg{\\cos^2{u}}$, and  $\\avg{\\sin^2{u}}$.\n",
    "\n",
    "If we calculate the time-averaged kinetic energy, potential energy, and total energy to first-order in the weakly damped limit, we find\n",
    "\n",
    "$$\n",
    "  \\avg{K} = \\frac{1}{2}m\\avg{\\dot{x}^2} \\simeq \\frac{1}{4}m\\omega_{1}^2 A^2 e^{-2\\beta t} \\\\\n",
    "  \\avg{U} = \\frac{1}{2}m\\omega_{0}^2\\avg{x^2} \\simeq \\frac{1}{4}m\\omega_{0}^2 A^2 e^{-2\\beta t} \\\\\n",
    "  \\avg{E} = \\avg{K} + \\avg{U} \\simeq \\frac{1}{2}m\\omega_{0}^2 A^2 e^{-2\\beta t}.\n",
    "$$\n",
    "\n",
    "**Exercise [pen & paper]:** verify the above.\n",
    "\n",
    "**Exercise [pen & paper]:** show that in the weakly damped limit, the average power dissipated by the damping force, given by $\\avg{P} = \\avg{b\\dot{x}^2}$, is equal to the average energy lost by the oscillator, $\\frac{d\\avg{E}}{dt}$."
   ]
  },
  {
   "cell_type": "markdown",
   "metadata": {},
   "source": [
    "**Exercise [sympy]:** use SymPy to calculate/verify the averages $\\avg{\\cos{u}}$, $\\avg{\\sin{u}}$, $\\avg{\\cos{u}\\sin{u}}$, $\\avg{\\cos^2{u}}$, and  $\\avg{\\sin^2{u}}$."
   ]
  },
  {
   "cell_type": "code",
   "execution_count": null,
   "metadata": {},
   "outputs": [],
   "source": []
  },
  {
   "cell_type": "markdown",
   "metadata": {},
   "source": [
    "**Exercise [sympy]:** use SymPy to obtain symbolic expressions for kinetic, potential and total energy for arbitrary damping. Also obtain an expression for the average total energy in the weak-damping limit. Lambdify the expressions, making them NumPy functions of $(t, m, \\omega_{0}, \\beta, x_{0}, \\dot{x}_{0})$, and test. "
   ]
  },
  {
   "cell_type": "code",
   "execution_count": null,
   "metadata": {},
   "outputs": [],
   "source": [
    "# sympy variables\n"
   ]
  },
  {
   "cell_type": "code",
   "execution_count": null,
   "metadata": {},
   "outputs": [],
   "source": [
    "# energy functions -- underdamped\n"
   ]
  },
  {
   "cell_type": "code",
   "execution_count": null,
   "metadata": {},
   "outputs": [],
   "source": [
    "# substitutions\n"
   ]
  },
  {
   "cell_type": "code",
   "execution_count": null,
   "metadata": {},
   "outputs": [],
   "source": [
    "# lambdify\n"
   ]
  },
  {
   "cell_type": "code",
   "execution_count": null,
   "metadata": {},
   "outputs": [],
   "source": [
    "#test data\n"
   ]
  },
  {
   "cell_type": "markdown",
   "metadata": {},
   "source": [
    "**Exercise [matplotlib]:** In the case of a weakly damped oscillator with $\\beta/\\omega_{0}=0.05$, plot the instantaneous kinetic energy, potential energy, and total energy on the same plot along with the average total energy, as functions of time. Verify that the average total energy is a reasonable approximation to the instantaneous total energy in this case. "
   ]
  },
  {
   "cell_type": "code",
   "execution_count": null,
   "metadata": {},
   "outputs": [],
   "source": [
    "### plot energy vs time ###\n",
    "# model parameters\n",
    "\n",
    "# initial conditions\n",
    "\n",
    "# uniform time grid\n",
    "\n",
    "# plot\n"
   ]
  },
  {
   "cell_type": "code",
   "execution_count": null,
   "metadata": {},
   "outputs": [],
   "source": []
  }
 ],
 "metadata": {
  "kernelspec": {
   "display_name": "Python 3",
   "language": "python",
   "name": "python3"
  },
  "language_info": {
   "codemirror_mode": {
    "name": "ipython",
    "version": 3
   },
   "file_extension": ".py",
   "mimetype": "text/x-python",
   "name": "python",
   "nbconvert_exporter": "python",
   "pygments_lexer": "ipython3",
   "version": "3.5.2"
  }
 },
 "nbformat": 4,
 "nbformat_minor": 2
}
