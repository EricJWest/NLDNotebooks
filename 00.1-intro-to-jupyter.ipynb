{
 "cells": [
  {
   "cell_type": "markdown",
   "metadata": {},
   "source": [
    "# Step 0.1 -- Introduction to Jupyter Notebooks\n",
    "---\n",
    "\n",
    "If this is your first experience with Jupyter notebooks, welcome! \n",
    "\n",
    "What follows is my attempt at a brief summary of the need-to-know basics of Jupyter notebooks. For a more complete and authoritative guide, see the official Jupyter notebook documentation [here](https://jupyter-notebook.readthedocs.io/en/stable/).\n",
    "\n",
    "The very first thing you need to know in order to use Jupyter notebooks is that they are made up of execution \"cells\", like this one. To execute a cell, and advance to the next cell, press **SHIFT+ENTER** on your keyboard (that is, hit **ENTER** while holding down the **SHIFT** button). Go ahead and do that now to advance to the next cell."
   ]
  },
  {
   "cell_type": "markdown",
   "metadata": {},
   "source": [
    "## 1. Markdown vs code cells\n",
    "\n",
    "Execution cells are divided into two **types**: **markdown** cells and **code** cells. \n",
    "\n",
    "Markdown cells, like this one, allow you to type formatted text, equations, bulleted lists, and so on. To edit or view the raw content of a markdown cell, either **[double-click]** on the cell or just hit **ENTER**. Try that now. Take a look at the raw markdown, and then execute the cell and advance to the next cell (again by pressing SHIFT+ENTER)."
   ]
  },
  {
   "cell_type": "markdown",
   "metadata": {},
   "source": [
    "The other type of cells are code cells. The notebooks in this series will be based on Python 3, which means that the code cells will be interpreted as Python3 code. You can type any commands that you would normally type in a Python script or iPython command line. Go ahead and advance to the next cell, which is an example of a code cell, and execute it."
   ]
  },
  {
   "cell_type": "code",
   "execution_count": null,
   "metadata": {},
   "outputs": [],
   "source": [
    "from time import sleep\n",
    "mynumber = 1 + 2 / 3 - 4 * 5\n",
    "sleep(2)\n",
    "mynumber"
   ]
  },
  {
   "cell_type": "markdown",
   "metadata": {},
   "source": [
    "Notice that after executing the code cell, it is assigned an input number and its output (if any) is assigned an output number. If you re-execute the code cell, it is assigned a new input/output number. If a code cell is still executing, say if you're performing an intensive calculation, the input number appears as [$*$]. (Notice, here I included the sleep command only to slow down the execution of the cell to illustrate this.) You either need to wait until a cell has finished before executing a new cell, or you can interrupt the execution using the stop button in the toolbar above."
   ]
  },
  {
   "cell_type": "markdown",
   "metadata": {},
   "source": [
    "## 2. Markdown and LaTeX\n",
    "\n",
    "Most LaTeX commands can be used in markdown cells. For example, you can express symbols like $\\alpha$, $\\beta$, $\\gamma$ in the usual way, just as if you were working in a TeX file. You can also add equations, either using the usual LaTeX commands like this\n",
    "\n",
    "\\begin{equation}\n",
    "  \\cos(a + b) = \\cos{a}\\cos{b} - \\sin{a}\\sin{b}\n",
    "\\end{equation}\n",
    "\n",
    "or in more abbreviated form using the double dollar sign construction \\$\\$ ... \\$\\$ like this\n",
    "\n",
    "$$\n",
    "  \\cos(a + b) = \\cos{a}\\cos{b} - \\sin{a}\\sin{b}\n",
    "$$\n",
    "\n",
    "To see the raw markdown in this cell, showing the commands used to create the above expressions, double-click on this cell or just hit ENTER. \n",
    "\n",
    "Although very similar to LaTeX, markdown and LaTeX are not identical. For example, at the time of writing this, LaTeX tables do not work well in markdown. You only need to be aware of these limitations if you are going to start creating your own content in Jupyter notebooks. As a user, these limitations will not affect you."
   ]
  },
  {
   "cell_type": "markdown",
   "metadata": {},
   "source": [
    "## 3. Edit vs command modes\n",
    "\n",
    "At any given time when working in a Jupyter notebook, you are either in **edit mode** or **command mode**. \n",
    "\n",
    "When in command mode, the current cell has a blue highlighted border. In this mode you can navigate up and down between cells using the arrow keys on your keyboard. When you execute a cell and advance to the next cell, you always start that new cell in command mode. This allows you to rapidly execute the cells in a notebook by simply holding down SHIFT and repeatedly hitting the ENTER key.\n",
    "\n",
    "To edit a cell, you need to enter edit mode. You do this by either double-clicking the cell, or simply hitting ENTER. (You should have done this already above, but if you haven't, try it now.) When in edit mode, the current cell has a green highlighted border.\n",
    "\n",
    "To switch out of edit mode, execute the cell. You can execute the cell and advance to the next cell with SHIFT+ENTER. Alternatively, you can execute the cell without advancing to the next cell with CTRL+ENTER. \n",
    "\n",
    "Take a minute to practice entering/exiting edit mode and command mode. "
   ]
  },
  {
   "cell_type": "markdown",
   "metadata": {},
   "source": [
    "## 4. Inserting, changing type, deleting, and moving cells\n",
    "\n",
    "Most of the notebooks in this series will be provided for you as templates, with instructions. Nevertheless for the purposes of experimenting, you will often want to insert, edit, move, and/or delete cells. The whole point of using a notebook interface, as opposed to a script that you run from beginning to end, is to have this on-the-fly interactive capability. So it's important to get comfortable adding, moving, and deleting cells.\n",
    "\n",
    "To insert a new cell:\n",
    "- use the \"+\" button in the toolbar\n",
    "- use the \"Insert\" menu\n",
    "- keyboard shortcut: while in command mode, press \"a\" to insert a new cell above the current cell, and press \"b\" to insert a new cell below the current cell\n",
    "\n",
    "By default, new cells are created as code cells. To change a cell to markdown:\n",
    "- use the dropdown menu in the toolbar\n",
    "- use the \"Cell\" menu\n",
    "- keyboard shortcut: while in command mode, press \"m\"\n",
    "\n",
    "To delete a cell:\n",
    "- use the scissors (cut) button in the toolbar\n",
    "- use the \"Edit\" menu\n",
    "- keyboard shortcut: while in command mode, press \"d\" twice in a row\n",
    "\n",
    "To move a cell:\n",
    "- use the up/down arrows in the toolbar\n",
    "- use the \"Edit\" menu"
   ]
  },
  {
   "cell_type": "markdown",
   "metadata": {},
   "source": [
    "## 5. Shortcuts, References, Help\n",
    "\n",
    "There is a lot of useful information under the \"Help\" menu. There is a list of keyboard shortcuts as well as links to tutorials and documentation for the various common tools and languages used in Jupyter notebooks. If you're wondering how to do something, or getting hung-up on something, browse the contents of the help menu."
   ]
  },
  {
   "cell_type": "markdown",
   "metadata": {},
   "source": [
    "## 6. Magics\n",
    "\n",
    "Part of the power of Jupyter notebooks is that provide an environment that supports multiple languages and tools simultaneously. Some of these tools are wrapped in so-called \"magic commands\" or simply \"magics\". Here we illustrate how to use just two of these: the %%writefile and %load magics.\n",
    "\n",
    "The %%writefile magic is an example of a \"cell magic\", so-called because it operates on the contents of an entire cell (i.e., takes the entire cell as its argument). This cell magic will write the contents the cell to a file in your working directory.\n",
    "\n",
    "The %load magic is an example of a \"line magic\", so-called because it operates on a single line (i.e., its arguments must be in the same line as the command). This magic will load the contents of the specified file into the current cell.\n",
    "\n",
    "The usage of these two magics are illustrated below. Many more magics exist, which you can read about on your own."
   ]
  },
  {
   "cell_type": "code",
   "execution_count": null,
   "metadata": {},
   "outputs": [],
   "source": [
    "%%writefile hello_world.txt\n",
    "Hello world!!!\n",
    "1 + 1 = 2"
   ]
  },
  {
   "cell_type": "code",
   "execution_count": null,
   "metadata": {},
   "outputs": [],
   "source": [
    "# %load 'hello_world.txt'\n",
    "Hello world!!!\n",
    "1 + 1 = 2"
   ]
  },
  {
   "cell_type": "markdown",
   "metadata": {},
   "source": [
    "Notice what happens if you have the wrong number of % symbols in the commands."
   ]
  },
  {
   "cell_type": "code",
   "execution_count": null,
   "metadata": {},
   "outputs": [],
   "source": [
    "%writefile hello_world.txt\n",
    "Hello world!!!\n",
    "1 + 1 = 2"
   ]
  },
  {
   "cell_type": "code",
   "execution_count": null,
   "metadata": {},
   "outputs": [],
   "source": [
    "%%load 'hello_world.txt'"
   ]
  },
  {
   "cell_type": "markdown",
   "metadata": {},
   "source": [
    "## 7. Checkpointing and autosave\n",
    "\n",
    "As a final note, by default Jupyter notebooks are autosaved periodically. So if you accidentally close a notebook or your machine crashes, any recent changes will have been saved. However when you manually click save (or CTRL+S), you also create a checkpoint. Jupyter always stores at least one checkpoint file, which you can revert to using the \"File\" menu. While a notebook is still running, the most up-to-date autosaved version of the file usually differs from the checkpoint file. When a notebook is gracefully saved and closed, the checkpoint file provides a backup to the saved file.\n",
    "\n",
    "[NOTE: there is only one checkpoint file at any given time. So the built-in checkpoint file does not provide a fool-proof version control system.]"
   ]
  }
 ],
 "metadata": {
  "kernelspec": {
   "display_name": "Python 3",
   "language": "python",
   "name": "python3"
  },
  "language_info": {
   "codemirror_mode": {
    "name": "ipython",
    "version": 3
   },
   "file_extension": ".py",
   "mimetype": "text/x-python",
   "name": "python",
   "nbconvert_exporter": "python",
   "pygments_lexer": "ipython3",
   "version": "3.5.2"
  }
 },
 "nbformat": 4,
 "nbformat_minor": 2
}
